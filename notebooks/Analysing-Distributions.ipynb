{
 "cells": [
  {
   "cell_type": "code",
   "execution_count": 1,
   "metadata": {},
   "outputs": [
    {
     "name": "stdout",
     "output_type": "stream",
     "text": [
      "/Users/marijnkoolen/Code/Huygens/scale\n"
     ]
    }
   ],
   "source": [
    "# This reload library is just used for developing the REPUBLIC hOCR parser \n",
    "# and can be removed once this module is stable.\n",
    "%reload_ext autoreload\n",
    "%autoreload 2\n",
    "\n",
    "# This is needed to add the repo dir to the path so jupyter\n",
    "# can load the modules in the scripts directory from the notebooks\n",
    "import os\n",
    "import sys\n",
    "repo_dir = os.path.split(os.getcwd())[0]\n",
    "print(repo_dir)\n",
    "if repo_dir not in sys.path:\n",
    "    sys.path.append(repo_dir)\n",
    "    \n",
    "import numpy as np\n",
    "import pandas as pd\n",
    "import json\n",
    "import csv\n",
    "from collections import Counter\n",
    "import gzip\n",
    "import os\n",
    "import math\n",
    "import arviz as az\n",
    "import matplotlib.pyplot as plt\n",
    "\n",
    "data_dir = '/Volumes/Samsung_T5/Data/Book-Reviews/GoodReads/'\n",
    "data_dir = '../data/GoodReads/'\n",
    "\n",
    "author_file = os.path.join(data_dir, 'goodreads_book_authors.csv.gz') # author information\n",
    "book_file = os.path.join(data_dir, 'goodreads_books.csv.gz') # basic book metadata\n",
    "genre_file = os.path.join(data_dir, 'goodreads_book_genres_initial.csv.gz') # book genre information\n",
    "review_file = os.path.join(data_dir, 'goodreads_reviews_dedup-no_text.csv.gz') # excludes text to save memory\n",
    "review_filtered_file = os.path.join(data_dir, 'goodreads_reviews_dedup_filtered-no_text.csv.gz') # excludes text and non-reviews\n",
    "review_text_file = os.path.join(data_dir, 'goodreads_reviews_dedup.csv.gz') # includes text\n",
    "\n"
   ]
  },
  {
   "cell_type": "code",
   "execution_count": null,
   "metadata": {},
   "outputs": [],
   "source": []
  },
  {
   "cell_type": "code",
   "execution_count": null,
   "metadata": {},
   "outputs": [],
   "source": []
  },
  {
   "cell_type": "code",
   "execution_count": null,
   "metadata": {},
   "outputs": [],
   "source": []
  },
  {
   "cell_type": "markdown",
   "metadata": {},
   "source": [
    "In the notebook [Filtering Goodreads Reviews](./Filtering-Goodreads-Reviews.ipynb) we detail the steps to filter out some non-reviews and include an argument why this is acceptable and even necessary.\n",
    "\n",
    "A plot of the review length distribution revealed that there are a few lengths (in number of characters) with high peaks in the frequency distribution. E.g. there are many more reviews of length 3 than expected given the rest of the distribution. Inspection revealed that many of those 3-character reviews contain only a rating, like '3.5' or '4.5'.\n",
    "\n"
   ]
  },
  {
   "cell_type": "code",
   "execution_count": 2,
   "metadata": {},
   "outputs": [
    {
     "data": {
      "text/html": [
       "<div>\n",
       "<style scoped>\n",
       "    .dataframe tbody tr th:only-of-type {\n",
       "        vertical-align: middle;\n",
       "    }\n",
       "\n",
       "    .dataframe tbody tr th {\n",
       "        vertical-align: top;\n",
       "    }\n",
       "\n",
       "    .dataframe thead th {\n",
       "        text-align: right;\n",
       "    }\n",
       "</style>\n",
       "<table border=\"1\" class=\"dataframe\">\n",
       "  <thead>\n",
       "    <tr style=\"text-align: right;\">\n",
       "      <th></th>\n",
       "      <th>user_id</th>\n",
       "      <th>book_id</th>\n",
       "      <th>review_id</th>\n",
       "      <th>rating</th>\n",
       "      <th>date_added</th>\n",
       "      <th>date_updated</th>\n",
       "      <th>read_at</th>\n",
       "      <th>started_at</th>\n",
       "      <th>n_votes</th>\n",
       "      <th>n_comments</th>\n",
       "      <th>review_length</th>\n",
       "    </tr>\n",
       "  </thead>\n",
       "  <tbody>\n",
       "    <tr>\n",
       "      <th>0</th>\n",
       "      <td>8842281e1d1347389f2ab93d60773d4d</td>\n",
       "      <td>24375664</td>\n",
       "      <td>5cd416f3efc3f944fce4ce2db2290d5e</td>\n",
       "      <td>5</td>\n",
       "      <td>Fri Aug 25 13:55:02 -0700 2017</td>\n",
       "      <td>Mon Oct 09 08:55:59 -0700 2017</td>\n",
       "      <td>Sat Oct 07 00:00:00 -0700 2017</td>\n",
       "      <td>Sat Aug 26 00:00:00 -0700 2017</td>\n",
       "      <td>16</td>\n",
       "      <td>0</td>\n",
       "      <td>968</td>\n",
       "    </tr>\n",
       "    <tr>\n",
       "      <th>1</th>\n",
       "      <td>8842281e1d1347389f2ab93d60773d4d</td>\n",
       "      <td>18245960</td>\n",
       "      <td>dfdbb7b0eb5a7e4c26d59a937e2e5feb</td>\n",
       "      <td>5</td>\n",
       "      <td>Sun Jul 30 07:44:10 -0700 2017</td>\n",
       "      <td>Wed Aug 30 00:00:26 -0700 2017</td>\n",
       "      <td>Sat Aug 26 12:05:52 -0700 2017</td>\n",
       "      <td>Tue Aug 15 13:23:18 -0700 2017</td>\n",
       "      <td>28</td>\n",
       "      <td>1</td>\n",
       "      <td>2086</td>\n",
       "    </tr>\n",
       "    <tr>\n",
       "      <th>2</th>\n",
       "      <td>8842281e1d1347389f2ab93d60773d4d</td>\n",
       "      <td>6392944</td>\n",
       "      <td>5e212a62bced17b4dbe41150e5bb9037</td>\n",
       "      <td>3</td>\n",
       "      <td>Mon Jul 24 02:48:17 -0700 2017</td>\n",
       "      <td>Sun Jul 30 09:28:03 -0700 2017</td>\n",
       "      <td>Tue Jul 25 00:00:00 -0700 2017</td>\n",
       "      <td>Mon Jul 24 00:00:00 -0700 2017</td>\n",
       "      <td>6</td>\n",
       "      <td>0</td>\n",
       "      <td>474</td>\n",
       "    </tr>\n",
       "    <tr>\n",
       "      <th>3</th>\n",
       "      <td>8842281e1d1347389f2ab93d60773d4d</td>\n",
       "      <td>22078596</td>\n",
       "      <td>fdd13cad0695656be99828cd75d6eb73</td>\n",
       "      <td>4</td>\n",
       "      <td>Mon Jul 24 02:33:09 -0700 2017</td>\n",
       "      <td>Sun Jul 30 10:23:54 -0700 2017</td>\n",
       "      <td>Sun Jul 30 15:42:05 -0700 2017</td>\n",
       "      <td>Tue Jul 25 00:00:00 -0700 2017</td>\n",
       "      <td>22</td>\n",
       "      <td>4</td>\n",
       "      <td>962</td>\n",
       "    </tr>\n",
       "    <tr>\n",
       "      <th>4</th>\n",
       "      <td>8842281e1d1347389f2ab93d60773d4d</td>\n",
       "      <td>6644782</td>\n",
       "      <td>bd0df91c9d918c0e433b9ab3a9a5c451</td>\n",
       "      <td>4</td>\n",
       "      <td>Mon Jul 24 02:28:14 -0700 2017</td>\n",
       "      <td>Thu Aug 24 00:07:20 -0700 2017</td>\n",
       "      <td>Sat Aug 05 00:00:00 -0700 2017</td>\n",
       "      <td>Sun Jul 30 00:00:00 -0700 2017</td>\n",
       "      <td>8</td>\n",
       "      <td>0</td>\n",
       "      <td>420</td>\n",
       "    </tr>\n",
       "    <tr>\n",
       "      <th>...</th>\n",
       "      <td>...</td>\n",
       "      <td>...</td>\n",
       "      <td>...</td>\n",
       "      <td>...</td>\n",
       "      <td>...</td>\n",
       "      <td>...</td>\n",
       "      <td>...</td>\n",
       "      <td>...</td>\n",
       "      <td>...</td>\n",
       "      <td>...</td>\n",
       "      <td>...</td>\n",
       "    </tr>\n",
       "    <tr>\n",
       "      <th>15616192</th>\n",
       "      <td>d0f6d1a4edcab80a6010cfcfeda4999f</td>\n",
       "      <td>1656001</td>\n",
       "      <td>b3d9a00405f7e96752d67b85deda4c7d</td>\n",
       "      <td>4</td>\n",
       "      <td>Mon Jun 04 18:08:44 -0700 2012</td>\n",
       "      <td>Tue Jun 26 18:58:46 -0700 2012</td>\n",
       "      <td>NaN</td>\n",
       "      <td>Sun Jun 10 00:00:00 -0700 2012</td>\n",
       "      <td>0</td>\n",
       "      <td>1</td>\n",
       "      <td>299</td>\n",
       "    </tr>\n",
       "    <tr>\n",
       "      <th>15616193</th>\n",
       "      <td>594c86711bd7acdaf655d102df52a9cb</td>\n",
       "      <td>10024429</td>\n",
       "      <td>2bcba3579aa1d728e664de293e16aacf</td>\n",
       "      <td>5</td>\n",
       "      <td>Fri Aug 01 18:46:18 -0700 2014</td>\n",
       "      <td>Fri Aug 01 18:47:07 -0700 2014</td>\n",
       "      <td>NaN</td>\n",
       "      <td>NaN</td>\n",
       "      <td>0</td>\n",
       "      <td>0</td>\n",
       "      <td>71</td>\n",
       "    </tr>\n",
       "    <tr>\n",
       "      <th>15616194</th>\n",
       "      <td>594c86711bd7acdaf655d102df52a9cb</td>\n",
       "      <td>6721437</td>\n",
       "      <td>7c1a7fcc2614a1a2a29213c11c991083</td>\n",
       "      <td>3</td>\n",
       "      <td>Tue Aug 27 12:49:25 -0700 2013</td>\n",
       "      <td>Tue Aug 27 12:53:46 -0700 2013</td>\n",
       "      <td>NaN</td>\n",
       "      <td>NaN</td>\n",
       "      <td>0</td>\n",
       "      <td>0</td>\n",
       "      <td>224</td>\n",
       "    </tr>\n",
       "    <tr>\n",
       "      <th>15616195</th>\n",
       "      <td>594c86711bd7acdaf655d102df52a9cb</td>\n",
       "      <td>15788197</td>\n",
       "      <td>74a9f9d1db09a90aae3a5acea68c6593</td>\n",
       "      <td>2</td>\n",
       "      <td>Fri May 03 13:06:15 -0700 2013</td>\n",
       "      <td>Fri May 03 15:35:39 -0700 2013</td>\n",
       "      <td>Fri May 03 15:35:39 -0700 2013</td>\n",
       "      <td>Fri May 03 00:00:00 -0700 2013</td>\n",
       "      <td>0</td>\n",
       "      <td>0</td>\n",
       "      <td>108</td>\n",
       "    </tr>\n",
       "    <tr>\n",
       "      <th>15616196</th>\n",
       "      <td>594c86711bd7acdaf655d102df52a9cb</td>\n",
       "      <td>8239301</td>\n",
       "      <td>f2af741fb7a99ff730cf29e004f127da</td>\n",
       "      <td>4</td>\n",
       "      <td>Sat Apr 20 15:18:15 -0700 2013</td>\n",
       "      <td>Thu May 02 16:51:20 -0700 2013</td>\n",
       "      <td>Thu May 02 16:51:20 -0700 2013</td>\n",
       "      <td>Sat Apr 20 00:00:00 -0700 2013</td>\n",
       "      <td>0</td>\n",
       "      <td>0</td>\n",
       "      <td>6</td>\n",
       "    </tr>\n",
       "  </tbody>\n",
       "</table>\n",
       "<p>15616197 rows × 11 columns</p>\n",
       "</div>"
      ],
      "text/plain": [
       "                                   user_id   book_id  \\\n",
       "0         8842281e1d1347389f2ab93d60773d4d  24375664   \n",
       "1         8842281e1d1347389f2ab93d60773d4d  18245960   \n",
       "2         8842281e1d1347389f2ab93d60773d4d   6392944   \n",
       "3         8842281e1d1347389f2ab93d60773d4d  22078596   \n",
       "4         8842281e1d1347389f2ab93d60773d4d   6644782   \n",
       "...                                    ...       ...   \n",
       "15616192  d0f6d1a4edcab80a6010cfcfeda4999f   1656001   \n",
       "15616193  594c86711bd7acdaf655d102df52a9cb  10024429   \n",
       "15616194  594c86711bd7acdaf655d102df52a9cb   6721437   \n",
       "15616195  594c86711bd7acdaf655d102df52a9cb  15788197   \n",
       "15616196  594c86711bd7acdaf655d102df52a9cb   8239301   \n",
       "\n",
       "                                 review_id  rating  \\\n",
       "0         5cd416f3efc3f944fce4ce2db2290d5e       5   \n",
       "1         dfdbb7b0eb5a7e4c26d59a937e2e5feb       5   \n",
       "2         5e212a62bced17b4dbe41150e5bb9037       3   \n",
       "3         fdd13cad0695656be99828cd75d6eb73       4   \n",
       "4         bd0df91c9d918c0e433b9ab3a9a5c451       4   \n",
       "...                                    ...     ...   \n",
       "15616192  b3d9a00405f7e96752d67b85deda4c7d       4   \n",
       "15616193  2bcba3579aa1d728e664de293e16aacf       5   \n",
       "15616194  7c1a7fcc2614a1a2a29213c11c991083       3   \n",
       "15616195  74a9f9d1db09a90aae3a5acea68c6593       2   \n",
       "15616196  f2af741fb7a99ff730cf29e004f127da       4   \n",
       "\n",
       "                              date_added                    date_updated  \\\n",
       "0         Fri Aug 25 13:55:02 -0700 2017  Mon Oct 09 08:55:59 -0700 2017   \n",
       "1         Sun Jul 30 07:44:10 -0700 2017  Wed Aug 30 00:00:26 -0700 2017   \n",
       "2         Mon Jul 24 02:48:17 -0700 2017  Sun Jul 30 09:28:03 -0700 2017   \n",
       "3         Mon Jul 24 02:33:09 -0700 2017  Sun Jul 30 10:23:54 -0700 2017   \n",
       "4         Mon Jul 24 02:28:14 -0700 2017  Thu Aug 24 00:07:20 -0700 2017   \n",
       "...                                  ...                             ...   \n",
       "15616192  Mon Jun 04 18:08:44 -0700 2012  Tue Jun 26 18:58:46 -0700 2012   \n",
       "15616193  Fri Aug 01 18:46:18 -0700 2014  Fri Aug 01 18:47:07 -0700 2014   \n",
       "15616194  Tue Aug 27 12:49:25 -0700 2013  Tue Aug 27 12:53:46 -0700 2013   \n",
       "15616195  Fri May 03 13:06:15 -0700 2013  Fri May 03 15:35:39 -0700 2013   \n",
       "15616196  Sat Apr 20 15:18:15 -0700 2013  Thu May 02 16:51:20 -0700 2013   \n",
       "\n",
       "                                 read_at                      started_at  \\\n",
       "0         Sat Oct 07 00:00:00 -0700 2017  Sat Aug 26 00:00:00 -0700 2017   \n",
       "1         Sat Aug 26 12:05:52 -0700 2017  Tue Aug 15 13:23:18 -0700 2017   \n",
       "2         Tue Jul 25 00:00:00 -0700 2017  Mon Jul 24 00:00:00 -0700 2017   \n",
       "3         Sun Jul 30 15:42:05 -0700 2017  Tue Jul 25 00:00:00 -0700 2017   \n",
       "4         Sat Aug 05 00:00:00 -0700 2017  Sun Jul 30 00:00:00 -0700 2017   \n",
       "...                                  ...                             ...   \n",
       "15616192                             NaN  Sun Jun 10 00:00:00 -0700 2012   \n",
       "15616193                             NaN                             NaN   \n",
       "15616194                             NaN                             NaN   \n",
       "15616195  Fri May 03 15:35:39 -0700 2013  Fri May 03 00:00:00 -0700 2013   \n",
       "15616196  Thu May 02 16:51:20 -0700 2013  Sat Apr 20 00:00:00 -0700 2013   \n",
       "\n",
       "          n_votes  n_comments  review_length  \n",
       "0              16           0            968  \n",
       "1              28           1           2086  \n",
       "2               6           0            474  \n",
       "3              22           4            962  \n",
       "4               8           0            420  \n",
       "...           ...         ...            ...  \n",
       "15616192        0           1            299  \n",
       "15616193        0           0             71  \n",
       "15616194        0           0            224  \n",
       "15616195        0           0            108  \n",
       "15616196        0           0              6  \n",
       "\n",
       "[15616197 rows x 11 columns]"
      ]
     },
     "execution_count": 2,
     "metadata": {},
     "output_type": "execute_result"
    }
   ],
   "source": [
    "review_df = pd.read_csv(review_filtered_file, sep='\\t', compression='gzip')\n",
    "\n",
    "review_df\n"
   ]
  },
  {
   "cell_type": "code",
   "execution_count": 119,
   "metadata": {},
   "outputs": [
    {
     "data": {
      "text/plain": [
       "<matplotlib.axes._subplots.AxesSubplot at 0x7feabb8326d0>"
      ]
     },
     "execution_count": 119,
     "metadata": {},
     "output_type": "execute_result"
    },
    {
     "data": {
      "image/png": "[encoded data removed]",
      "text/plain": [
       "<Figure size 432x288 with 1 Axes>"
      ]
     },
     "metadata": {
      "needs_background": "light"
     },
     "output_type": "display_data"
    }
   ],
   "source": [
    "\n",
    "review_df.review_length.value_counts().sort_index().plot(logx=True)\n",
    "\n"
   ]
  },
  {
   "cell_type": "markdown",
   "metadata": {},
   "source": [
    "There are still several strange peaks and dips for reviews below 30 characters. We will leave these for now.\n",
    "\n"
   ]
  },
  {
   "cell_type": "code",
   "execution_count": null,
   "metadata": {},
   "outputs": [],
   "source": [
    "# alternative ways of plotting this\n",
    "#review_df.review_length.hist(bins=100, log=True)\n"
   ]
  },
  {
   "cell_type": "markdown",
   "metadata": {},
   "source": [
    "Why is it so important to talked about the type of distribution?\n",
    "\n",
    "First, we want to be able to compare different subsets of reviews on various characteristics and need to know if it is fair and valid to make each comparison. E.g. do reviews on Amazon differ from Goodreads reviews for the same book 1) in terms of the ratings they give to books or 2) in terms of the sentiment expressed or 3) what aspects of a book the sentiment is expressed about (e.g. the characters or the plot or the writing style)?\n",
    "\n",
    "To be able to compare fairly how much sentiment is expressed, one may want to check that these sets reviews are representative samples of the large sets of all reviews on Amazon and all reviews on Goodreads. One thing to check is that they cover reviews of different lengths. As individual reviews can differ strongly in length (some are just a few words, others are thousands of words long), comparing individual lengths is not meaningful. A more meaningful way is to compare their distributions. Do they roughly contain the same number of reviews of different lengths? \n",
    "\n",
    "Second, it helps us spot anomalies in a dataset. The first distribution plot of the unfiltered reviews revealed strange peaks in a distrubtion that, apart from those peaks, looks like a log-normal distribution. Knowing that most characteristics of large samples of documents tend to follow a known distribution, and knowing what these look like, helps us to spot these anomalies and to determine if and how these anomalies should be dealt with.\n",
    "\n",
    "Third, it helps us to think more deeply about the **causal factors that play a role in the process of creating the documents or elements of our datasets**. This is where qualitative **domain knowledge and expertise** is extremely valuable and can be connected to quantitive aspects of the domain. \n",
    "\n",
    "\n",
    "### Shapes and Characteristics of Distributions\n",
    "\n",
    "Many naturally occuring frequency distributions can be (more or less) recognized by their shape. These shapes are important to understand, as they can tell us a lot about what kinds of questions we can ask about them, and about mechanisms and causal factors that contribute to such distributions. There is a typology of distributions that give us a toolbox to discuss and compare sets of reviews.\n",
    "\n",
    "For instance, with book reviews, we may ask why most books have between 10 and 300 characters and not much more, what the average length of reviews is, and what the variation in lengths is. Knowing the average and variation, we can also say whether a specific review is long, short or average. It gives us a way to make comparisons of subsets. For instance, are the lengths of reviews stable over time, or they changing? Are reviews of thrillers different in length than reviews of other genres?\n",
    "\n",
    "Below we take a small detour to discuss normal distributions. The review lengths follow a different type of distribution, namely a so-called *log-normal* distributions. We will discuss this type and how it helps us understand the nature of different aspects of reviews after the detour on normal distributions.\n",
    "\n",
    "#### Normal Distributions\n",
    "\n",
    "The perhaps most common and well-known distribution is the bell-shaped [normal distribution](https://en.wikipedia.org/wiki/Normal_distribution). Most data points are concentrated around the average value, and large deviations from that average value are rare.\n",
    "\n",
    "How do normal distributions come about? Richard McElreath's wonderful book [Statistical Rethinking](https://xcelab.net/rm/statistical-rethinking/) has very useful description and example of processes that lead to normal distributions. In processes where many factors contribute a small amount to the total, factors that contribute less and factors that contribute more, tend to cancel each other. If you throw two six-sided die you can throw between 2 and 12 eyes. Although the individual throws can deviate as much as 10 eyes from each other, over hundreds of throws, the average number of eyes in a single throw will centre around 7, the average and middle value. \n",
    "\n",
    "As another example, let's look at the distribution of human heights. We'll simulate a number of human heights using several simplifying assumptions (this is based on an example from the Statistical Rethinking book):\n",
    "\n",
    "- The height of the human population is normally distributed (this is approximately true, but not exactly).\n",
    "- There is a single *mean* height for the entire population (e.g. no differences between gender or between adults and children), and a single *variance*.\n",
    "- The mean or average height of the population is 178 centimeters\n",
    "- The standard deviation is 20 centimeters\n",
    "\n",
    "First, we show a random sample of 10 human heights."
   ]
  },
  {
   "cell_type": "code",
   "execution_count": 6,
   "metadata": {},
   "outputs": [
    {
     "data": {
      "text/plain": [
       "array([162.30863612, 178.60236851, 190.72033523, 180.67548648,\n",
       "       167.97493583, 193.11398516, 169.3978602 , 144.33246675,\n",
       "       184.56059913, 189.58732649])"
      ]
     },
     "execution_count": 6,
     "metadata": {},
     "output_type": "execute_result"
    }
   ],
   "source": [
    "np.random.normal(178, 20, 10)"
   ]
  },
  {
   "cell_type": "markdown",
   "metadata": {},
   "source": [
    "Most of these ten values don't deviate far from to 178. Re-running the cell will generate another 10 random values. In most cases, this will result in another set of values that are close to 178.\n",
    "\n",
    "Below we generate a larger samples and look at the shape of the distribution.\n"
   ]
  },
  {
   "cell_type": "code",
   "execution_count": 7,
   "metadata": {},
   "outputs": [
    {
     "name": "stdout",
     "output_type": "stream",
     "text": [
      "The shortest person in the sample is 87.54 cm tall.\n",
      "The tallest person in the sample is 267.66 cm tall.\n",
      "\n",
      "The median height in the sample is 178.09 cm tall.\n",
      "The average person in the sample is 178.02 cm tall.\n",
      "\n",
      "The standard deviation of the sample is 19.94 cm tall.\n"
     ]
    }
   ],
   "source": [
    "from scipy import stats\n",
    "\n",
    "# create a sample of 10,000 human heights\n",
    "sample = np.random.normal(178, 20, 100000)\n",
    "print(f'The shortest person in the sample is {sample.min(): >.2f} cm tall.')\n",
    "print(f'The tallest person in the sample is {sample.max(): >.2f} cm tall.')\n",
    "print()\n",
    "print(f'The median height in the sample is {np.median(sample): >.2f} cm tall.')\n",
    "print(f'The average person in the sample is {sample.mean(): >.2f} cm tall.')\n",
    "print()\n",
    "print(f'The standard deviation of the sample is {sample.std(): >.2f} cm tall.')\n"
   ]
  },
  {
   "cell_type": "markdown",
   "metadata": {},
   "source": [
    "Plotting these as a histogram, we should get the familiar bell-shaped distribution."
   ]
  },
  {
   "cell_type": "code",
   "execution_count": 85,
   "metadata": {},
   "outputs": [
    {
     "data": {
      "text/plain": [
       "array([<matplotlib.axes._subplots.AxesSubplot object at 0x7febfe6f15d0>],\n",
       "      dtype=object)"
      ]
     },
     "execution_count": 85,
     "metadata": {},
     "output_type": "execute_result"
    },
    {
     "data": {
      "image/png": "[encoded data removed]",
      "text/plain": [
       "<Figure size 432x288 with 1 Axes>"
      ]
     },
     "metadata": {
      "needs_background": "light"
     },
     "output_type": "display_data"
    }
   ],
   "source": [
    "import arviz as az\n",
    "\n",
    "az.plot_posterior(sample, kind='hist')"
   ]
  },
  {
   "cell_type": "markdown",
   "metadata": {},
   "source": [
    "One important characteristic of normal distributions is that they are symmetric around the mean. That is, the number of data points below the mean is roughly the same as the number of data points above the mean. \n",
    "\n",
    "#### Sample Size and Stability\n",
    "\n",
    "The shortest and tallest persons in the sample deviate about the same amount from the mean of 178. The median person (i.e., if all people in the sample are ranked by height from low to high, the median is the person in the middle) is very close the average or mean height of 178cm. \n",
    "\n",
    "This is the case for samples of 100,000 heights, but also samples of 10,000 heights or 10,000,000 heights. For very small samples, the mean may differ more from 178 because there are not enough random draws to cancel out the individual contributions that may deviate strongly from each other. But in general, 100 heights is enough to establish an accurate estimate of the mean and variance, regardless of whether the variance is 10 or 50 centimeters. "
   ]
  },
  {
   "cell_type": "code",
   "execution_count": 5,
   "metadata": {},
   "outputs": [
    {
     "name": "stdout",
     "output_type": "stream",
     "text": [
      "Sample size:        1, height average: 178.06, std. dev.:  0.00\n",
      "Sample size:       10, height average: 178.44, std. dev.: 13.72\n",
      "Sample size:      100, height average: 179.19, std. dev.:  9.16\n",
      "Sample size:     1000, height average: 177.99, std. dev.: 10.04\n",
      "Sample size:    10000, height average: 177.98, std. dev.:  9.99\n",
      "Sample size:   100000, height average: 178.05, std. dev.:  9.96\n",
      "Sample size:  1000000, height average: 178.02, std. dev.:  9.99\n",
      "Sample size: 10000000, height average: 178.00, std. dev.: 10.00\n"
     ]
    }
   ],
   "source": [
    "for sample_size in [1, 10, 100, 1000, 10000, 100000, 1000000, 10000000]:\n",
    "    sample = np.random.normal(178, 10, sample_size)\n",
    "    print(f'Sample size: {sample_size: >8}, height average: {sample.mean(): >.2f}, std. dev.: {sample.std(): >5.2f}')\n"
   ]
  },
  {
   "cell_type": "markdown",
   "metadata": {},
   "source": [
    "#### The Log-Normal Distribution and Review Lengths\n",
    "\n",
    "Now we go back to the review lengths and the *log-normal* distribution. \n",
    "\n",
    "The *log-normal* distribution of a numeric characteristic (e.g. review length, number of reviews per book, author or genre, etc.) is a normal distribution for the logarithm of that numeric characteristic. That is, for review length, the logarithm of review lengths is normally distributed. \n",
    "\n",
    "If we know that the mean value and the standard deviation are important to describe the distribution, for a log-normal distribution, the mean value is the mean of the logarithm of each of the values. "
   ]
  },
  {
   "cell_type": "code",
   "execution_count": 166,
   "metadata": {},
   "outputs": [
    {
     "name": "stdout",
     "output_type": "stream",
     "text": [
      "normal length mean: 708.7728870409544\n",
      "normal length median: 342.0\n"
     ]
    }
   ],
   "source": [
    "import math\n",
    "\n",
    "#review_df = review_df[review_df.review_length > 0]\n",
    "#review_df['review_log_length'] = review_df.review_length.apply(math.log)\n",
    "print('normal length mean:', review_df.review_length.mean())\n",
    "print('normal length median:', np.median(review_df.review_length))\n"
   ]
  },
  {
   "cell_type": "code",
   "execution_count": 165,
   "metadata": {},
   "outputs": [
    {
     "name": "stdout",
     "output_type": "stream",
     "text": [
      "normal length mean: 708.7728870409544\n",
      "normal length median: 342.0\n"
     ]
    },
    {
     "data": {
      "text/plain": [
       "array([<matplotlib.axes._subplots.AxesSubplot object at 0x7fe84d4aa2d0>],\n",
       "      dtype=object)"
      ]
     },
     "execution_count": 165,
     "metadata": {},
     "output_type": "execute_result"
    },
    {
     "data": {
      "image/png": "[encoded data removed]",
      "text/plain": [
       "<Figure size 432x288 with 1 Axes>"
      ]
     },
     "metadata": {
      "needs_background": "light"
     },
     "output_type": "display_data"
    }
   ],
   "source": [
    "# plotting the histogram with the 94% interval (this takes a long time and a LOT of memory)\n",
    "\n",
    "az.plot_posterior(np.array(review_df.review_length), kind='hist')"
   ]
  },
  {
   "cell_type": "markdown",
   "metadata": {},
   "source": [
    "The mean length of reviews is 708 characters, but this cannot be interpreted in the same way as the mean height of people shown above. In the case of human height, which is normaly distributed, roughly half the people in the sample are below the average height, and the other half are above it (the mean is also almost the same as the median). \n",
    "\n",
    "But in a log-normal distribution this is not the case. The mean is much higher than the median, because there are some very long outlier reviews that contribute disproportionately to the mean. Remember that in normal-distribution processes, all factors have a small positive or negative contribution w.r.t. the total, which tend to cancel each other out, such that most data points end up near the mean. There is no possible way for a single very short review to compensate for a single very long review. Review lengths cannot be negative.\n",
    "\n",
    "As a consequence, log-normal distributed data is not symmetric around the mean at all:"
   ]
  },
  {
   "cell_type": "code",
   "execution_count": 129,
   "metadata": {},
   "outputs": [
    {
     "name": "stdout",
     "output_type": "stream",
     "text": [
      "number of reviews above average length: 10928752\n"
     ]
    }
   ],
   "source": [
    "print('number of reviews above average length:', len(review_df[review_df.review_length < 708]))"
   ]
  },
  {
   "cell_type": "code",
   "execution_count": 128,
   "metadata": {},
   "outputs": [
    {
     "name": "stdout",
     "output_type": "stream",
     "text": [
      "number of reviews above average length: 4680507\n"
     ]
    }
   ],
   "source": [
    "print('number of reviews above average length:', len(review_df[review_df.review_length >= 708]))"
   ]
  },
  {
   "cell_type": "markdown",
   "metadata": {},
   "source": [
    "Roughly two thirds are below the average and one third is above it, and most reviews are either a lot shorter or longer than 708 characters. But if we use the log-length, the mean is much closer to the median and the distribution is more symmetric around the mean.\n"
   ]
  },
  {
   "cell_type": "code",
   "execution_count": 170,
   "metadata": {},
   "outputs": [
    {
     "name": "stdout",
     "output_type": "stream",
     "text": [
      "log-length mean: 5.76\n",
      "log-length median: 5.83\n",
      "\n",
      "number of reviews below mean log-length: 7477556\n",
      "number of reviews above mean log-length: 8131703\n",
      "\n",
      "The mean log-length corresponds to 316 characters\n",
      "The median log-length corresponds to 341 characters\n",
      "\n",
      "number of reviews below mean log-length of 316 characters: 7463623\n",
      "number of reviews above mean log-length of 316 characters: 8145636\n"
     ]
    }
   ],
   "source": [
    "print(f'log-length mean: {review_df.review_log_length.mean(): >.2f}')\n",
    "print(f'log-length median: {np.median(review_df.review_log_length): >.2f}\\n')\n",
    "print(f'number of reviews below mean log-length: {len(review_df[review_df.review_log_length <= 5.76])}')\n",
    "print(f'number of reviews above mean log-length: {len(review_df[review_df.review_log_length > 5.76])}\\n')\n",
    "\n",
    "print(f'The mean log-length corresponds to {int(math.exp(review_df.review_log_length.mean()))} characters')\n",
    "print(f'The median log-length corresponds to {int(math.exp(np.median(review_df.review_log_length)))} characters\\n')\n",
    "\n",
    "print('number of reviews below mean log-length of 316 characters:', len(review_df[review_df.review_length <= 316]))\n",
    "print('number of reviews above mean log-length of 316 characters:', len(review_df[review_df.review_length > 316]))\n"
   ]
  },
  {
   "cell_type": "markdown",
   "metadata": {},
   "source": [
    "The average log-length is a better divider of the reviews in terms of length. A log-length of 5.76 corresponds to a character length of 316 characters (going back from the logarithm of a number to the number itself requires taking the exponent of the logarithm). \n",
    "\n",
    "This average length, calculated as the exponent of the log-lengths, is an equally good divider. \n",
    "\n",
    "It is also important to know that, **because log-normaly distributed data has larger deviations, this mean it requires a larger sample size** to establish accurate mean and standard deviation. Whereas the human heights examples showed a good estimate of the real mean and standard deviation in a sample of 100 heights, it requires a significantly larger sample to get a good estimate of review length:"
   ]
  },
  {
   "cell_type": "code",
   "execution_count": 162,
   "metadata": {},
   "outputs": [
    {
     "name": "stdout",
     "output_type": "stream",
     "text": [
      "Sample size:       10 mean (median) length:  488.10 ( 316.50) mean log-length (median): 5.54 (5.74) chars: 253\n",
      "Sample size:       10 mean (median) length: 1460.70 ( 226.50) mean log-length (median): 5.81 (5.32) chars: 334\n",
      "Sample size:       10 mean (median) length:  943.80 (1003.50) mean log-length (median): 6.41 (6.89) chars: 608\n",
      "Sample size:      100 mean (median) length:  739.41 ( 402.50) mean log-length (median): 5.90 (6.00) chars: 363\n",
      "Sample size:      100 mean (median) length:  607.50 ( 390.50) mean log-length (median): 5.76 (5.97) chars: 316\n",
      "Sample size:      100 mean (median) length:  672.19 ( 360.00) mean log-length (median): 5.68 (5.89) chars: 293\n",
      "Sample size:     1000 mean (median) length:  719.95 ( 355.00) mean log-length (median): 5.75 (5.87) chars: 312\n",
      "Sample size:     1000 mean (median) length:  733.26 ( 356.00) mean log-length (median): 5.77 (5.87) chars: 319\n",
      "Sample size:     1000 mean (median) length:  692.47 ( 363.00) mean log-length (median): 5.77 (5.89) chars: 320\n",
      "Sample size:    10000 mean (median) length:  711.02 ( 346.00) mean log-length (median): 5.76 (5.85) chars: 316\n",
      "Sample size:   100000 mean (median) length:  711.11 ( 344.00) mean log-length (median): 5.76 (5.84) chars: 317\n",
      "Sample size:  1000000 mean (median) length:  710.36 ( 342.00) mean log-length (median): 5.76 (5.83) chars: 316\n",
      "Sample size: 10000000 mean (median) length:  708.57 ( 342.00) mean log-length (median): 5.76 (5.83) chars: 316\n"
     ]
    }
   ],
   "source": [
    "for sample_size in [10, 10, 10, 100, 100, 100, 1000, 1000, 1000, 10000, 100000, 1000000, 10000000]:\n",
    "    sample_df = review_df.sample(sample_size)\n",
    "    mean = sample_df.review_length.mean()\n",
    "    median = np.median(sample_df.review_length)\n",
    "    std = sample_df.review_length.std()\n",
    "    mean_log = sample_df.review_log_length.mean()\n",
    "    median_log = np.median(sample_df.review_log_length)\n",
    "    mean_exp_log = int(math.exp(mean_log))\n",
    "    std_log = sample_df.review_log_length.std()\n",
    "    print(f'Sample size: {sample_size: >8} mean (median) length: {mean: >7.2f} ({median: >7.2f}) mean log-length (median): {mean_log: >4.2f} ({median_log: >4.2f}) chars: {mean_exp_log: >3}')\n",
    "    \n",
    "    "
   ]
  },
  {
   "cell_type": "markdown",
   "metadata": {},
   "source": [
    "In the samples above, all sample sizes below 10,000 are unstable (different samples of the same size have quite different means and variance). \n"
   ]
  },
  {
   "cell_type": "code",
   "execution_count": null,
   "metadata": {},
   "outputs": [],
   "source": []
  },
  {
   "cell_type": "code",
   "execution_count": null,
   "metadata": {},
   "outputs": [],
   "source": []
  },
  {
   "cell_type": "markdown",
   "metadata": {},
   "source": [
    "### Number of Reviews per Book\n",
    "\n",
    "Next, we look at the number of reviews per book. Popular books get reviewed much more often than obscure books, resulting again in a skewed distribution. Most books have only one or a few reviews, and a small group has very many reviews. \n",
    "\n",
    "This distribution has yet another shape and different characteristics. Below we explore how **scale has a large effect on standard descriptive statistics of such a distribution and why they are therefore not very meaningful**.\n"
   ]
  },
  {
   "cell_type": "code",
   "execution_count": 34,
   "metadata": {},
   "outputs": [
    {
     "data": {
      "text/plain": [
       "11870085    20686\n",
       "2767052     18573\n",
       "7260188     13482\n",
       "22557272    13285\n",
       "6148028     11864\n",
       "            ...  \n",
       "34409199        1\n",
       "18741622        1\n",
       "1496682         1\n",
       "13415128        1\n",
       "28900843        1\n",
       "Name: book_id, Length: 2073188, dtype: int64"
      ]
     },
     "execution_count": 34,
     "metadata": {},
     "output_type": "execute_result"
    }
   ],
   "source": [
    "from helper import ecdf\n",
    "\n",
    "review_df.book_id.value_counts()"
   ]
  },
  {
   "cell_type": "markdown",
   "metadata": {},
   "source": [
    "The review dataset contains reviews for 2,073,188 distinct book titles. We note that different titles can be different editions of the same work, such as the hardcover, paperback and ebook editions, mass market paperbacks as well as critical editions. \n",
    "\n",
    "The most reviewed title has 20,686 reviews, but the vast majority of titles have only one review. Below we look at the distribution."
   ]
  },
  {
   "cell_type": "code",
   "execution_count": 9,
   "metadata": {},
   "outputs": [
    {
     "name": "stdout",
     "output_type": "stream",
     "text": [
      "Number of books with  1 reviews:   1048030\n",
      "Number of books with  2 reviews:    320533\n",
      "Number of books with  3 reviews:    163093\n",
      "Number of books with  4 reviews:    100090\n",
      "Number of books with  5 reviews:     68924\n",
      "Number of books with  6 reviews:     50270\n",
      "Number of books with  7 reviews:     38766\n",
      "Number of books with  8 reviews:     30490\n",
      "Number of books with  9 reviews:     24803\n",
      "Number of books with 10 reviews:     20473\n"
     ]
    }
   ],
   "source": [
    "from collections import Counter\n",
    "\n",
    "num_review_freq = Counter([count for count in review_df.book_id.value_counts()])\n",
    "\n",
    "for num_reviews, book_count in num_review_freq.most_common(10):\n",
    "    print(f'Number of books with {num_reviews: >2} reviews: {book_count: > 9}')\n",
    "\n"
   ]
  },
  {
   "cell_type": "markdown",
   "metadata": {},
   "source": [
    "There are over 1 million books with only a single review. That is half of the total of 2 million books. This is typical of User-Generated Content on the web (see references [1-3] below). Books that are promoted in shops and advertisements get more attention and are more visible than books that are not. As a consequence, more people have heard of these more visible books and are more likely to buy or borrow them and mention them to others, including via online reviews, which further boosts the visibility of these books. An affect like [preferential attachment] or [winner takes all] kicks in that causes a few books to become ever more popular, while the majority of other books remain relatively unknown. \n",
    "\n",
    "[1] M. Hundt, N. Nesselhauf, C. Biewer, Corpus linguistics and the web, in: Corpus linguisticsand the web, Brill Rodopi, 2007, pp. 1–5.\n",
    "\n",
    "[2]  X. Ochoa, E. Duval, Quantitative analysis of user-generated content on the web, 2008.\n",
    "\n",
    "[3]  J. Ratkiewicz, S. Fortunato, A. Flammini, F. Menczer, A. Vespignani, Characterizing andmodeling the dynamics of online popularity,  Physical review letters 105 (2010) 158701\n",
    "\n",
    "If we plot the distribution of these review frequencies, we see a different shape:"
   ]
  },
  {
   "cell_type": "code",
   "execution_count": 12,
   "metadata": {},
   "outputs": [
    {
     "data": {
      "text/plain": [
       "<Figure size 720x72 with 0 Axes>"
      ]
     },
     "metadata": {},
     "output_type": "display_data"
    },
    {
     "data": {
      "image/png": "[encoded data removed]",
      "text/plain": [
       "<Figure size 864x288 with 2 Axes>"
      ]
     },
     "metadata": {
      "needs_background": "light"
     },
     "output_type": "display_data"
    }
   ],
   "source": [
    "# get the review frequency as X axis data and the number of books with X reviews as Y axis data\n",
    "x, y = zip(*num_review_freq.items())\n",
    "# Turn the number of books into a proportion of the entire collection\n",
    "y_prob = [y_val / sum(y) for y_val in y]\n",
    "\n",
    "# Create two plots side-by-side to show the shape of the distribution in different scales\n",
    "plt.figure(figsize=(10,1)) \n",
    "fig, axes = plt.subplots(1,2, figsize=(12,4))\n",
    "ax1 = axes[0]\n",
    "ax2 = axes[1]\n",
    "\n",
    "# linear\n",
    "\n",
    "ax1.plot(x,y)\n",
    "ax1.set_title('Frequency of reviewed books')\n",
    "ax1.set_xlabel('Number of reviews per book')\n",
    "ax1.set_ylabel('Fraction of books (linear scale)')\n",
    "\n",
    "# log\n",
    "ax2.plot(x,y)\n",
    "ax2.set_title('Frequency of reviewed books')\n",
    "ax2.set_xscale('log')\n",
    "ax2.set_yscale('log')\n",
    "ax2.set_xlabel('Number of reviews per book')\n",
    "ax2.set_ylabel('Fraction of books (logarithmic scale)')\n",
    "plt.show()\n"
   ]
  },
  {
   "cell_type": "markdown",
   "metadata": {},
   "source": [
    "The plot on the left shows a blue line starting in the top left at just over 1 million, then goes straight down to 1 and moves to the right to just above 20,000 on the X-axis. This is to show that this distribution is heavily skewed to the left. Almost all books have only one or a few reviews. And because there are a handful of books with tens of thousands of reviews, the data points for books with up to 100 reviews are compressed into this single vertical blue line. It is impossible to see the datapoints for books with 2, 5, 19 or 36 reviews. \n",
    "\n",
    "A typical trick is to switch from a linear scale (the shift of the X-axis from 1 to 101 reviews is the same as the shift from 19,900 to 20,000 reviews) to a logarithmic scale, where the shift from 1 to 100 is the same as the shift from 100 to 10,000. This is shown in the plot on the right. Now the difference between 1, 2, 5, 19 and 36 reviews is more visible. The distribution shows a straight line, and because this a so-called *log-log* scale (both the X and Y axes use logarithmic scales), the straight line is a signal that this distribution follows a so-called **power-law**. A power-law distribution (also often referred to as *long-tail* distribution) has very different characteristics from a **normal** or **log-normal** distribution. \n",
    "\n",
    "For instance, where is with a normal distribution we speak of the average and standard deviation to understand what the distribution looks like, these statistics are not meaningful for power-law distributions. Although it is possible to calculate a *mean* value or the *variance*, these are misleading to use, because they depend on the sample size. "
   ]
  },
  {
   "cell_type": "code",
   "execution_count": 28,
   "metadata": {},
   "outputs": [
    {
     "name": "stdout",
     "output_type": "stream",
     "text": [
      "Sample:      100\tMean:   1.00\tMedian:  1.0\tMin:   1\tMax:      1\tStd.dev:   0.00\n",
      "Sample:      100\tMean:   1.00\tMedian:  1.0\tMin:   1\tMax:      1\tStd.dev:   0.00\n",
      "Sample:      100\tMean:   1.00\tMedian:  1.0\tMin:   1\tMax:      1\tStd.dev:   0.00\n",
      "Sample:    10000\tMean:   1.12\tMedian:  1.0\tMin:   1\tMax:     11\tStd.dev:   0.58\n",
      "Sample:    10000\tMean:   1.12\tMedian:  1.0\tMin:   1\tMax:     14\tStd.dev:   0.58\n",
      "Sample:    10000\tMean:   1.12\tMedian:  1.0\tMin:   1\tMax:     19\tStd.dev:   0.55\n",
      "Sample:  1000000\tMean:   2.49\tMedian:  1.0\tMin:   1\tMax:   1313\tStd.dev:  10.02\n",
      "Sample: 10000000\tMean:   6.08\tMedian:  1.0\tMin:   1\tMax:  13201\tStd.dev:  49.97\n",
      "Sample: 15616197\tMean:   7.53\tMedian:  1.0\tMin:   1\tMax:  20686\tStd.dev:  69.59\n"
     ]
    }
   ],
   "source": [
    "\n",
    "def plot_sample_distribution(df, sample_size):\n",
    "    sample_df = df.sample(sample_size) if sample_size < len(df) else df\n",
    "    counts = sample_df.book_id.value_counts()\n",
    "    print(f\"Sample: {sample_size: >8}\\tMean: {counts.mean(): >6.2f}\\tMedian: {np.median(counts): >4}\\tMin: {counts.min(): >3}\\tMax: {counts.max(): >6}\\tStd.dev: {counts.std(): >6.2f}\")\n",
    "\n",
    "\n",
    "sample_sizes = [100, 100, 100, 10000, 10000, 10000, 1000000, 10000000, 100000000]\n",
    "for sample_size in sample_sizes:\n",
    "    plot_sample_distribution(review_df, sample_size)"
   ]
  },
  {
   "cell_type": "markdown",
   "metadata": {},
   "source": [
    "The different sample sizes have different means, maximums and standard deviations. Here is the important thing: **in power-law distributed data, mean and variance tend to increase with sample size!**\n",
    "\n",
    "The descriptive statistics that most of us are familiar, mean and variance, are useful ways to describe and reason about normally-distributed data, because in a large enough (random) sample, they are good approximations of the real mean and variance of the data-generating process. With larger samples the mean and variance are increasingly good approximations. But in power-law distributed data, no matter what sample size, the mean and variance as not good approximations, as they are dependent on the sample size: a one-million review sample has a much lower mean and variance than the full set of 15 million reviews, and those 15 million reviews are only a (non-random) sample of all the reviews that are published on Goodreads, with new reviews being published all the time. **But more importantly, they are also not useful descriptions of the data, because**:\n",
    "\n",
    "1. There is usually very little centred around the mean (the vast majority of data points are below the mean).\n",
    "\n",
    "2. The distribution is very not symmetric around the mean. The two sides of the mean have very different shapes and mass.\n",
    "\n",
    "3. The standard deviation is usually much higher than the mean, so tells you nothing about what the distribution below the mean looks like. Nor does it capture well what is happening above the mean.\n",
    " \n"
   ]
  },
  {
   "cell_type": "code",
   "execution_count": 35,
   "metadata": {},
   "outputs": [
    {
     "name": "stdout",
     "output_type": "stream",
     "text": [
      "number of books with at least one review: 2073188\n",
      "number of books with below average number of reviews: 1789706\n",
      "proportion of books with below average number of reviews: 0.8632627624701668\n"
     ]
    }
   ],
   "source": [
    "#counts = review_df.book_id.value_counts()\n",
    "print('number of books with at least one review:', len(counts))\n",
    "print('number of books with below average number of reviews:', len(counts[counts < 7.53]))\n",
    "print('proportion of books with below average number of reviews:', len(counts[counts < 7.53]) / len(counts))"
   ]
  },
  {
   "cell_type": "markdown",
   "metadata": {},
   "source": [
    "Over 86% of books have fewer reviews than the mean so less than 14% have more than the mean. "
   ]
  },
  {
   "cell_type": "markdown",
   "metadata": {},
   "source": [
    "### Power-laws in correspondences\n",
    "\n",
    "Power-law distributions are typical of user-generated content on the web, where popularity and availability effects cause frequency distributions to be increasingly skewed. \n",
    "\n",
    "But in many other types of data we the same patterns. For instance, the correspondences between people as archived in the Early Modern Letters Online digital collection.\n",
    "\n",
    "Below we look at the number of letters send by individual authors and the number of letters received by addressees."
   ]
  },
  {
   "cell_type": "code",
   "execution_count": 2,
   "metadata": {},
   "outputs": [],
   "source": [
    "\n",
    "# read the merged letters file into a Pandas dataframe\n",
    "merged_letters_file = '../data/emlo_letters.csv'\n",
    "df = pd.read_csv(merged_letters_file, sep='\\t')\n"
   ]
  },
  {
   "cell_type": "code",
   "execution_count": 5,
   "metadata": {},
   "outputs": [
    {
     "data": {
      "image/png": "[encoded data removed]",
      "text/plain": [
       "<Figure size 1080x360 with 2 Axes>"
      ]
     },
     "metadata": {
      "needs_background": "light"
     },
     "output_type": "display_data"
    }
   ],
   "source": [
    "from collections import Counter\n",
    "\n",
    "plt.subplots(1,2, figsize=(15,5))\n",
    "\n",
    "# count the number of letters per author, \n",
    "# than count the number of authors with a specific number of letters\n",
    "author_dist = Counter([count for count in df.author.value_counts()])\n",
    "x_author, y_author = zip(*author_dist.items())\n",
    "plt.subplot(1,2,1)\n",
    "plt.scatter(x_author, y_author)\n",
    "plt.xscale('log')\n",
    "plt.yscale('log')\n",
    "plt.xlabel('Number of letters authored')\n",
    "plt.ylabel('Number of authors')\n",
    "\n",
    "plt.subplot(1,2,2)\n",
    "# count the number of letters per addressees, \n",
    "# than count the number of addressees with a specific number of letters\n",
    "addressee_dist = Counter([count for count in df.addressee.value_counts()])\n",
    "x_addressee, y_addressee = zip(*addressee_dist.items())\n",
    "plt.scatter(x_addressee, y_addressee)\n",
    "plt.xscale('log')\n",
    "plt.yscale('log')\n",
    "plt.xlabel('Number of letters received')\n",
    "plt.ylabel('Number of addressees')\n",
    "plt.show()\n"
   ]
  },
  {
   "cell_type": "code",
   "execution_count": 21,
   "metadata": {},
   "outputs": [
    {
     "data": {
      "text/plain": [
       "Bodleian card catalogue     48668\n",
       "Groot, Hugo de               8034\n",
       "Huygens, Constantijn         7120\n",
       "Hartlib, Samuel              4719\n",
       "Andreae, Johann Valentin     3696\n",
       "                            ...  \n",
       "Beeckman, Isaac                28\n",
       "Dudley, Anne                   27\n",
       "Vernon, Margaret               21\n",
       "Baxter, Richard                 8\n",
       "Culpeper, Cheney                3\n",
       "Name: collection, Length: 93, dtype: int64"
      ]
     },
     "execution_count": 21,
     "metadata": {},
     "output_type": "execute_result"
    }
   ],
   "source": [
    "# the sizes of the individual collections also form a highly skewed distribution\n",
    "df.collection.value_counts()\n",
    "\n"
   ]
  },
  {
   "cell_type": "code",
   "execution_count": null,
   "metadata": {},
   "outputs": [],
   "source": []
  },
  {
   "cell_type": "code",
   "execution_count": null,
   "metadata": {},
   "outputs": [],
   "source": []
  },
  {
   "cell_type": "code",
   "execution_count": null,
   "metadata": {},
   "outputs": [],
   "source": []
  },
  {
   "cell_type": "code",
   "execution_count": null,
   "metadata": {},
   "outputs": [],
   "source": []
  }
 ],
 "metadata": {
  "kernelspec": {
   "display_name": "Python 3",
   "language": "python",
   "name": "python3"
  },
  "language_info": {
   "codemirror_mode": {
    "name": "ipython",
    "version": 3
   },
   "file_extension": ".py",
   "mimetype": "text/x-python",
   "name": "python",
   "nbconvert_exporter": "python",
   "pygments_lexer": "ipython3",
   "version": "3.6.2"
  }
 },
 "nbformat": 4,
 "nbformat_minor": 4
}
